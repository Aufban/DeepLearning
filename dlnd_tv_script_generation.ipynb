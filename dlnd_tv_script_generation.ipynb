{
 "cells": [
  {
   "cell_type": "markdown",
   "metadata": {
    "deletable": true,
    "editable": true
   },
   "source": [
    "# TV Script Generation\n",
    "In this project, you'll generate your own [Simpsons](https://en.wikipedia.org/wiki/The_Simpsons) TV scripts using RNNs.  You'll be using part of the [Simpsons dataset](https://www.kaggle.com/wcukierski/the-simpsons-by-the-data) of scripts from 27 seasons.  The Neural Network you'll build will generate a new TV script for a scene at [Moe's Tavern](https://simpsonswiki.com/wiki/Moe's_Tavern).\n",
    "## Get the Data\n",
    "The data is already provided for you.  You'll be using a subset of the original dataset.  It consists of only the scenes in Moe's Tavern.  This doesn't include other versions of the tavern, like \"Moe's Cavern\", \"Flaming Moe's\", \"Uncle Moe's Family Feed-Bag\", etc.."
   ]
  },
  {
   "cell_type": "code",
   "execution_count": 78,
   "metadata": {
    "collapsed": false,
    "deletable": true,
    "editable": true
   },
   "outputs": [],
   "source": [
    "\"\"\"\n",
    "DON'T MODIFY ANYTHING IN THIS CELL\n",
    "\"\"\"\n",
    "import helper\n",
    "\n",
    "data_dir = './data/simpsons/moes_tavern_lines.txt'\n",
    "text = helper.load_data(data_dir)\n",
    "# Ignore notice, since we don't use it for analysing the data\n",
    "text = text[81:]"
   ]
  },
  {
   "cell_type": "markdown",
   "metadata": {
    "deletable": true,
    "editable": true
   },
   "source": [
    "## Explore the Data\n",
    "Play around with `view_sentence_range` to view different parts of the data."
   ]
  },
  {
   "cell_type": "code",
   "execution_count": 79,
   "metadata": {
    "collapsed": false,
    "deletable": true,
    "editable": true
   },
   "outputs": [
    {
     "name": "stdout",
     "output_type": "stream",
     "text": [
      "Dataset Stats\n",
      "Roughly the number of unique words: 11492\n",
      "Number of scenes: 262\n",
      "Average number of sentences in each scene: 15.251908396946565\n",
      "Number of lines: 4258\n",
      "Average number of words in each line: 11.50164396430249\n",
      "\n",
      "The sentences 0 to 10:\n",
      "\n",
      "Moe_Szyslak: (INTO PHONE) Moe's Tavern. Where the elite meet to drink.\n",
      "Bart_Simpson: Eh, yeah, hello, is Mike there? Last name, Rotch.\n",
      "Moe_Szyslak: (INTO PHONE) Hold on, I'll check. (TO BARFLIES) Mike Rotch. Mike Rotch. Hey, has anybody seen Mike Rotch, lately?\n",
      "Moe_Szyslak: (INTO PHONE) Listen you little puke. One of these days I'm gonna catch you, and I'm gonna carve my name on your back with an ice pick.\n",
      "Moe_Szyslak: What's the matter Homer? You're not your normal effervescent self.\n",
      "Homer_Simpson: I got my problems, Moe. Give me another one.\n",
      "Moe_Szyslak: Homer, hey, you should not drink to forget your problems.\n",
      "Barney_Gumble: Yeah, you should only drink to enhance your social skills.\n",
      "\n"
     ]
    }
   ],
   "source": [
    "view_sentence_range = (0, 10)\n",
    "\n",
    "\"\"\"\n",
    "DON'T MODIFY ANYTHING IN THIS CELL\n",
    "\"\"\"\n",
    "import numpy as np\n",
    "\n",
    "print('Dataset Stats')\n",
    "print('Roughly the number of unique words: {}'.format(len({word: None for word in text.split()})))\n",
    "scenes = text.split('\\n\\n')\n",
    "print('Number of scenes: {}'.format(len(scenes)))\n",
    "sentence_count_scene = [scene.count('\\n') for scene in scenes]\n",
    "print('Average number of sentences in each scene: {}'.format(np.average(sentence_count_scene)))\n",
    "\n",
    "sentences = [sentence for scene in scenes for sentence in scene.split('\\n')]\n",
    "print('Number of lines: {}'.format(len(sentences)))\n",
    "word_count_sentence = [len(sentence.split()) for sentence in sentences]\n",
    "print('Average number of words in each line: {}'.format(np.average(word_count_sentence)))\n",
    "\n",
    "print()\n",
    "print('The sentences {} to {}:'.format(*view_sentence_range))\n",
    "print('\\n'.join(text.split('\\n')[view_sentence_range[0]:view_sentence_range[1]]))"
   ]
  },
  {
   "cell_type": "markdown",
   "metadata": {
    "deletable": true,
    "editable": true
   },
   "source": [
    "## Implement Preprocessing Functions\n",
    "The first thing to do to any dataset is preprocessing.  Implement the following preprocessing functions below:\n",
    "- Lookup Table\n",
    "- Tokenize Punctuation\n",
    "\n",
    "### Lookup Table\n",
    "To create a word embedding, you first need to transform the words to ids.  In this function, create two dictionaries:\n",
    "- Dictionary to go from the words to an id, we'll call `vocab_to_int`\n",
    "- Dictionary to go from the id to word, we'll call `int_to_vocab`\n",
    "\n",
    "Return these dictionaries in the following tuple `(vocab_to_int, int_to_vocab)`"
   ]
  },
  {
   "cell_type": "code",
   "execution_count": 80,
   "metadata": {
    "collapsed": false,
    "deletable": true,
    "editable": true
   },
   "outputs": [
    {
     "name": "stdout",
     "output_type": "stream",
     "text": [
      "Tests Passed\n"
     ]
    }
   ],
   "source": [
    "import numpy as np\n",
    "import problem_unittests as tests\n",
    "from collections import Counter\n",
    "\n",
    "def create_lookup_tables(text):\n",
    "    \"\"\"\n",
    "    Create lookup tables for vocabulary\n",
    "    :param text: The text of tv scripts split into words\n",
    "    :return: A tuple of dicts (vocab_to_int, int_to_vocab)\n",
    "    \"\"\"\n",
    "    # TODO: Implement Function\n",
    "    word_counts = Counter(text)\n",
    "    sorted_voc = sorted(word_counts, key=word_counts.get, reverse=True)\n",
    "    int_to_vocab = {i:word for i, word in enumerate(sorted_voc)}\n",
    "    vocab_to_int = {word: i for i, word in int_to_vocab.items()}\n",
    "\n",
    "    return vocab_to_int, int_to_vocab\n",
    "\n",
    "\n",
    "\"\"\"\n",
    "DON'T MODIFY ANYTHING IN THIS CELL THAT IS BELOW THIS LINE\n",
    "\"\"\"\n",
    "tests.test_create_lookup_tables(create_lookup_tables)"
   ]
  },
  {
   "cell_type": "markdown",
   "metadata": {
    "deletable": true,
    "editable": true
   },
   "source": [
    "### Tokenize Punctuation\n",
    "We'll be splitting the script into a word array using spaces as delimiters.  However, punctuations like periods and exclamation marks make it hard for the neural network to distinguish between the word \"bye\" and \"bye!\".\n",
    "\n",
    "Implement the function `token_lookup` to return a dict that will be used to tokenize symbols like \"!\" into \"||Exclamation_Mark||\".  Create a dictionary for the following symbols where the symbol is the key and value is the token:\n",
    "- Period ( . )\n",
    "- Comma ( , )\n",
    "- Quotation Mark ( \" )\n",
    "- Semicolon ( ; )\n",
    "- Exclamation mark ( ! )\n",
    "- Question mark ( ? )\n",
    "- Left Parentheses ( ( )\n",
    "- Right Parentheses ( ) )\n",
    "- Dash ( -- )\n",
    "- Return ( \\n )\n",
    "\n",
    "This dictionary will be used to token the symbols and add the delimiter (space) around it.  This separates the symbols as it's own word, making it easier for the neural network to predict on the next word. Make sure you don't use a token that could be confused as a word. Instead of using the token \"dash\", try using something like \"||dash||\"."
   ]
  },
  {
   "cell_type": "code",
   "execution_count": 81,
   "metadata": {
    "collapsed": false,
    "deletable": true,
    "editable": true
   },
   "outputs": [
    {
     "name": "stdout",
     "output_type": "stream",
     "text": [
      "Tests Passed\n"
     ]
    }
   ],
   "source": [
    "def token_lookup():\n",
    "    \"\"\"\n",
    "    Generate a dict to turn punctuation into a token.\n",
    "    :return: Tokenize dictionary where the key is the punctuation and the value is the token\n",
    "    \"\"\"\n",
    "    # TODO: Implement Function\n",
    "    diccionario = {'.':'|Period|',\n",
    "                   ',':'|Comma|',\n",
    "                   '\"':'|Quotation_Mark|',\n",
    "                   ';':'|Semicolon|',\n",
    "                   '!':'|Exclamation_Mark|',\n",
    "                   '?':'|Question_Mark|',\n",
    "                   '(':'|Left_Parentheses|',\n",
    "                   ')':'|Right_Parentheses|',\n",
    "                   '--':'|Dash|',\n",
    "                   '\\n':'|Return|' }\n",
    "    return diccionario\n",
    "\n",
    "\"\"\"\n",
    "DON'T MODIFY ANYTHING IN THIS CELL THAT IS BELOW THIS LINE\n",
    "\"\"\"\n",
    "tests.test_tokenize(token_lookup)"
   ]
  },
  {
   "cell_type": "markdown",
   "metadata": {
    "deletable": true,
    "editable": true
   },
   "source": [
    "## Preprocess all the data and save it\n",
    "Running the code cell below will preprocess all the data and save it to file."
   ]
  },
  {
   "cell_type": "code",
   "execution_count": 82,
   "metadata": {
    "collapsed": false,
    "deletable": true,
    "editable": true
   },
   "outputs": [],
   "source": [
    "\"\"\"\n",
    "DON'T MODIFY ANYTHING IN THIS CELL\n",
    "\"\"\"\n",
    "# Preprocess Training, Validation, and Testing Data\n",
    "helper.preprocess_and_save_data(data_dir, token_lookup, create_lookup_tables)"
   ]
  },
  {
   "cell_type": "markdown",
   "metadata": {
    "deletable": true,
    "editable": true
   },
   "source": [
    "# Check Point\n",
    "This is your first checkpoint. If you ever decide to come back to this notebook or have to restart the notebook, you can start from here. The preprocessed data has been saved to disk."
   ]
  },
  {
   "cell_type": "code",
   "execution_count": 83,
   "metadata": {
    "collapsed": false,
    "deletable": true,
    "editable": true
   },
   "outputs": [],
   "source": [
    "\"\"\"\n",
    "DON'T MODIFY ANYTHING IN THIS CELL\n",
    "\"\"\"\n",
    "import helper\n",
    "import numpy as np\n",
    "import problem_unittests as tests\n",
    "\n",
    "int_text, vocab_to_int, int_to_vocab, token_dict = helper.load_preprocess()"
   ]
  },
  {
   "cell_type": "markdown",
   "metadata": {
    "deletable": true,
    "editable": true
   },
   "source": [
    "## Build the Neural Network\n",
    "You'll build the components necessary to build a RNN by implementing the following functions below:\n",
    "- get_inputs\n",
    "- get_init_cell\n",
    "- get_embed\n",
    "- build_rnn\n",
    "- build_nn\n",
    "- get_batches\n",
    "\n",
    "### Check the Version of TensorFlow and Access to GPU"
   ]
  },
  {
   "cell_type": "code",
   "execution_count": 84,
   "metadata": {
    "collapsed": false,
    "deletable": true,
    "editable": true
   },
   "outputs": [
    {
     "name": "stdout",
     "output_type": "stream",
     "text": [
      "TensorFlow Version: 1.0.1\n"
     ]
    },
    {
     "name": "stderr",
     "output_type": "stream",
     "text": [
      "C:\\Users\\Aufban\\Anaconda3\\envs\\tensorflow\\lib\\site-packages\\ipykernel\\__main__.py:14: UserWarning: No GPU found. Please use a GPU to train your neural network.\n"
     ]
    }
   ],
   "source": [
    "\"\"\"\n",
    "DON'T MODIFY ANYTHING IN THIS CELL\n",
    "\"\"\"\n",
    "from distutils.version import LooseVersion\n",
    "import warnings\n",
    "import tensorflow as tf\n",
    "\n",
    "# Check TensorFlow Version\n",
    "assert LooseVersion(tf.__version__) >= LooseVersion('1.0'), 'Please use TensorFlow version 1.0 or newer'\n",
    "print('TensorFlow Version: {}'.format(tf.__version__))\n",
    "\n",
    "# Check for a GPU\n",
    "if not tf.test.gpu_device_name():\n",
    "    warnings.warn('No GPU found. Please use a GPU to train your neural network.')\n",
    "else:\n",
    "    print('Default GPU Device: {}'.format(tf.test.gpu_device_name()))"
   ]
  },
  {
   "cell_type": "markdown",
   "metadata": {
    "deletable": true,
    "editable": true
   },
   "source": [
    "### Input\n",
    "Implement the `get_inputs()` function to create TF Placeholders for the Neural Network.  It should create the following placeholders:\n",
    "- Input text placeholder named \"input\" using the [TF Placeholder](https://www.tensorflow.org/api_docs/python/tf/placeholder) `name` parameter.\n",
    "- Targets placeholder\n",
    "- Learning Rate placeholder\n",
    "\n",
    "Return the placeholders in the following the tuple `(Input, Targets, LearingRate)`"
   ]
  },
  {
   "cell_type": "code",
   "execution_count": 85,
   "metadata": {
    "collapsed": false,
    "deletable": true,
    "editable": true
   },
   "outputs": [
    {
     "name": "stdout",
     "output_type": "stream",
     "text": [
      "Tests Passed\n"
     ]
    }
   ],
   "source": [
    "def get_inputs():\n",
    "    \"\"\"\n",
    "    Create TF Placeholders for input, targets, and learning rate.\n",
    "    :return: Tuple (input, targets, learning rate)\n",
    "    \"\"\"\n",
    "    # TODO: Implement Function\n",
    "    Input = tf.placeholder(tf.int32,shape = (None, None), name='input')\n",
    "    Targets = tf.placeholder(tf.int32,shape = (None,None), name='targets')\n",
    "    LearningRate = tf.placeholder(tf.float32, shape = None, name='learningrate')\n",
    "    return Input, Targets, LearningRate\n",
    "\n",
    "\n",
    "\"\"\"\n",
    "DON'T MODIFY ANYTHING IN THIS CELL THAT IS BELOW THIS LINE\n",
    "\"\"\"\n",
    "tests.test_get_inputs(get_inputs)"
   ]
  },
  {
   "cell_type": "markdown",
   "metadata": {
    "deletable": true,
    "editable": true
   },
   "source": [
    "### Build RNN Cell and Initialize\n",
    "Stack one or more [`BasicLSTMCells`](https://www.tensorflow.org/api_docs/python/tf/contrib/rnn/BasicLSTMCell) in a [`MultiRNNCell`](https://www.tensorflow.org/api_docs/python/tf/contrib/rnn/MultiRNNCell).\n",
    "- The Rnn size should be set using `rnn_size`\n",
    "- Initalize Cell State using the MultiRNNCell's [`zero_state()`](https://www.tensorflow.org/api_docs/python/tf/contrib/rnn/MultiRNNCell#zero_state) function\n",
    "    - Apply the name \"initial_state\" to the initial state using [`tf.identity()`](https://www.tensorflow.org/api_docs/python/tf/identity)\n",
    "\n",
    "Return the cell and initial state in the following tuple `(Cell, InitialState)`"
   ]
  },
  {
   "cell_type": "code",
   "execution_count": 86,
   "metadata": {
    "collapsed": false,
    "deletable": true,
    "editable": true
   },
   "outputs": [
    {
     "name": "stdout",
     "output_type": "stream",
     "text": [
      "Tests Passed\n"
     ]
    }
   ],
   "source": [
    "def get_init_cell(batch_size, rnn_size):\n",
    "    \"\"\"\n",
    "    Create an RNN Cell and initialize it.\n",
    "    :param batch_size: Size of batches\n",
    "    :param rnn_size: Size of RNNs\n",
    "    :return: Tuple (cell, initialize state)\n",
    "    \"\"\"\n",
    "    # TODO: Implement Function\n",
    "    \n",
    "    #VARS¿?\n",
    "    #lstm_size = 256 did not find where it's defined\n",
    "    keep_prob=0.5\n",
    "    lstm_layers = 5\n",
    "    \n",
    "    #Cell\n",
    "    lstm = tf.contrib.rnn.BasicLSTMCell(rnn_size)\n",
    "    drop = tf.contrib.rnn.DropoutWrapper(lstm, output_keep_prob = keep_prob)\n",
    "    cell = tf.contrib.rnn.MultiRNNCell([drop]*lstm_layers)\n",
    "    \n",
    "    #initial state\n",
    "    initial_s=cell.zero_state(batch_size, tf.float32)\n",
    "    initial_st=tf.identity(initial_s, name=\"initial_state\")\n",
    "    \n",
    "    return cell,initial_st\n",
    "\n",
    "\n",
    "\"\"\"\n",
    "DON'T MODIFY ANYTHING IN THIS CELL THAT IS BELOW THIS LINE\n",
    "\"\"\"\n",
    "tests.test_get_init_cell(get_init_cell)"
   ]
  },
  {
   "cell_type": "markdown",
   "metadata": {
    "deletable": true,
    "editable": true
   },
   "source": [
    "### Word Embedding\n",
    "Apply embedding to `input_data` using TensorFlow.  Return the embedded sequence."
   ]
  },
  {
   "cell_type": "code",
   "execution_count": 87,
   "metadata": {
    "collapsed": false,
    "deletable": true,
    "editable": true
   },
   "outputs": [
    {
     "name": "stdout",
     "output_type": "stream",
     "text": [
      "Tests Passed\n"
     ]
    }
   ],
   "source": [
    "def get_embed(input_data, vocab_size, embed_dim):\n",
    "    \"\"\"\n",
    "    Create embedding for <input_data>.\n",
    "    :param input_data: TF placeholder for text input.\n",
    "    :param vocab_size: Number of words in vocabulary.\n",
    "    :param embed_dim: Number of embedding dimensions\n",
    "    :return: Embedded input.\n",
    "    \"\"\"\n",
    "    # TODO: Implement Function\n",
    "    #missing the with train_graph.as_default():\n",
    "    embedding =tf.Variable(tf.random_uniform((vocab_size,embed_dim),-1,1))\n",
    "    embed= tf.nn.embedding_lookup(embedding, input_data)\n",
    "    \n",
    "    return embed\n",
    "\n",
    "\n",
    "\"\"\"\n",
    "DON'T MODIFY ANYTHING IN THIS CELL THAT IS BELOW THIS LINE\n",
    "\"\"\"\n",
    "tests.test_get_embed(get_embed)"
   ]
  },
  {
   "cell_type": "markdown",
   "metadata": {
    "deletable": true,
    "editable": true
   },
   "source": [
    "### Build RNN\n",
    "You created a RNN Cell in the `get_init_cell()` function.  Time to use the cell to create a RNN.\n",
    "- Build the RNN using the [`tf.nn.dynamic_rnn()`](https://www.tensorflow.org/api_docs/python/tf/nn/dynamic_rnn)\n",
    " - Apply the name \"final_state\" to the final state using [`tf.identity()`](https://www.tensorflow.org/api_docs/python/tf/identity)\n",
    "\n",
    "Return the outputs and final_state state in the following tuple `(Outputs, FinalState)` "
   ]
  },
  {
   "cell_type": "code",
   "execution_count": 88,
   "metadata": {
    "collapsed": false,
    "deletable": true,
    "editable": true
   },
   "outputs": [
    {
     "name": "stdout",
     "output_type": "stream",
     "text": [
      "Tests Passed\n"
     ]
    }
   ],
   "source": [
    "def build_rnn(cell, inputs):\n",
    "    \"\"\"\n",
    "    Create a RNN using a RNN Cell\n",
    "    :param cell: RNN Cell\n",
    "    :param inputs: Input text data\n",
    "    :return: Tuple (Outputs, Final State)\n",
    "    \"\"\"\n",
    "    # TODO: Implement Function\n",
    "    output, fstate = tf.nn.dynamic_rnn(cell,inputs,dtype = tf.float32)\n",
    "    fstate= tf.identity(fstate,name=\"final_state\")\n",
    "    return output, fstate\n",
    "\n",
    "\n",
    "\"\"\"\n",
    "DON'T MODIFY ANYTHING IN THIS CELL THAT IS BELOW THIS LINE\n",
    "\"\"\"\n",
    "tests.test_build_rnn(build_rnn)"
   ]
  },
  {
   "cell_type": "markdown",
   "metadata": {
    "deletable": true,
    "editable": true
   },
   "source": [
    "### Build the Neural Network\n",
    "Apply the functions you implemented above to:\n",
    "- Apply embedding to `input_data` using your `get_embed(input_data, vocab_size, embed_dim)` function.\n",
    "- Build RNN using `cell` and your `build_rnn(cell, inputs)` function.\n",
    "- Apply a fully connected layer with a linear activation and `vocab_size` as the number of outputs.\n",
    "\n",
    "Return the logits and final state in the following tuple (Logits, FinalState) "
   ]
  },
  {
   "cell_type": "code",
   "execution_count": 89,
   "metadata": {
    "collapsed": false,
    "deletable": true,
    "editable": true
   },
   "outputs": [
    {
     "name": "stdout",
     "output_type": "stream",
     "text": [
      "Tests Passed\n"
     ]
    }
   ],
   "source": [
    "def build_nn(cell, rnn_size, input_data, vocab_size):\n",
    "    \"\"\"\n",
    "    Build part of the neural network\n",
    "    :param cell: RNN cell\n",
    "    :param rnn_size: Size of rnns\n",
    "    :param input_data: Input data\n",
    "    :param vocab_size: Vocabulary size\n",
    "    :return: Tuple (Logits, FinalState)\n",
    "    \"\"\"\n",
    "    # TODO: Implement Function\n",
    "    #Embeddings\n",
    "    emb = get_embed(input_data,vocab_size,rnn_size)\n",
    "    ww,fstate = build_rnn(cell,emb)\n",
    "    logits = tf.contrib.layers.fully_connected(ww,vocab_size,activation_fn=None, weights_initializer=tf.truncated_normal_initializer(stddev=0.1), biases_initializer = tf.zeros_initializer(),)\n",
    "    return logits, fstate\n",
    "\n",
    "\n",
    "\"\"\"\n",
    "DON'T MODIFY ANYTHING IN THIS CELL THAT IS BELOW THIS LINE\n",
    "\"\"\"\n",
    "tests.test_build_nn(build_nn)"
   ]
  },
  {
   "cell_type": "markdown",
   "metadata": {
    "deletable": true,
    "editable": true
   },
   "source": [
    "### Batches\n",
    "Implement `get_batches` to create batches of input and targets using `int_text`.  The batches should be a Numpy array with the shape `(number of batches, 2, batch size, sequence length)`. Each batch contains two elements:\n",
    "- The first element is a single batch of **input** with the shape `[batch size, sequence length]`\n",
    "- The second element is a single batch of **targets** with the shape `[batch size, sequence length]`\n",
    "\n",
    "If you can't fill the last batch with enough data, drop the last batch.\n",
    "\n",
    "For exmple, `get_batches([1, 2, 3, 4, 5, 6, 7, 8, 9, 10, 11, 12, 13, 14, 15], 2, 3)` would return a Numpy array of the following:\n",
    "```\n",
    "[\n",
    "  # First Batch\n",
    "  [\n",
    "    # Batch of Input\n",
    "    [[ 1  2  3], [ 7  8  9]],\n",
    "    # Batch of targets\n",
    "    [[ 2  3  4], [ 8  9 10]]\n",
    "  ],\n",
    " \n",
    "  # Second Batch\n",
    "  [\n",
    "    # Batch of Input\n",
    "    [[ 4  5  6], [10 11 12]],\n",
    "    # Batch of targets\n",
    "    [[ 5  6  7], [11 12 13]]\n",
    "  ]\n",
    "]\n",
    "```"
   ]
  },
  {
   "cell_type": "code",
   "execution_count": 90,
   "metadata": {
    "collapsed": false,
    "deletable": true,
    "editable": true
   },
   "outputs": [
    {
     "name": "stdout",
     "output_type": "stream",
     "text": [
      "Tests Passed\n"
     ]
    }
   ],
   "source": [
    "def get_batches(int_text, batch_size, seq_length):\n",
    "    \"\"\"\n",
    "    Return batches of input and target\n",
    "    :param int_text: Text with the words replaced by their ids\n",
    "    :param batch_size: The size of batch\n",
    "    :param seq_length: The length of sequence\n",
    "    :return: Batches as a Numpy array\n",
    "    \"\"\"\n",
    "    # TODO: Implement Function\n",
    "    n_batches = int(len(int_text) / (batch_size * seq_length))\n",
    "\n",
    "    # Drop the last few characters to make only full batches\n",
    "    xdata = np.array(int_text[: n_batches * batch_size * seq_length])\n",
    "    ydata = np.array(int_text[1: n_batches * batch_size * seq_length + 1])\n",
    "\n",
    "    x_batches = np.split(xdata.reshape(batch_size, -1), n_batches, 1)\n",
    "    y_batches = np.split(ydata.reshape(batch_size, -1), n_batches, 1)\n",
    "    asdas = list(zip(x_batches, y_batches))\n",
    "    \n",
    "    arrrrray = np.asarray(asdas)\n",
    "    return arrrrray\n",
    "\n",
    "\n",
    "\"\"\"\n",
    "DON'T MODIFY ANYTHING IN THIS CELL THAT IS BELOW THIS LINE\n",
    "\"\"\"\n",
    "tests.test_get_batches(get_batches)"
   ]
  },
  {
   "cell_type": "markdown",
   "metadata": {
    "deletable": true,
    "editable": true
   },
   "source": [
    "## Neural Network Training\n",
    "### Hyperparameters\n",
    "Tune the following parameters:\n",
    "\n",
    "- Set `num_epochs` to the number of epochs.\n",
    "- Set `batch_size` to the batch size.\n",
    "- Set `rnn_size` to the size of the RNNs.\n",
    "- Set `seq_length` to the length of sequence.\n",
    "- Set `learning_rate` to the learning rate.\n",
    "- Set `show_every_n_batches` to the number of batches the neural network should print progress."
   ]
  },
  {
   "cell_type": "code",
   "execution_count": 91,
   "metadata": {
    "collapsed": true,
    "deletable": true,
    "editable": true
   },
   "outputs": [],
   "source": [
    "# Number of Epochs\n",
    "num_epochs = 80\n",
    "# Batch Size\n",
    "batch_size = 128\n",
    "# RNN Size\n",
    "rnn_size = 256\n",
    "# Sequence Length\n",
    "seq_length = 12\n",
    "# Learning Rate\n",
    "learning_rate = 0.005\n",
    "# Show stats for every n number of batches\n",
    "show_every_n_batches = 5\n",
    "\n",
    "\"\"\"\n",
    "DON'T MODIFY ANYTHING IN THIS CELL THAT IS BELOW THIS LINE\n",
    "\"\"\"\n",
    "save_dir = './save'"
   ]
  },
  {
   "cell_type": "markdown",
   "metadata": {
    "deletable": true,
    "editable": true
   },
   "source": [
    "### Build the Graph\n",
    "Build the graph using the neural network you implemented."
   ]
  },
  {
   "cell_type": "code",
   "execution_count": null,
   "metadata": {
    "collapsed": false,
    "deletable": true,
    "editable": true
   },
   "outputs": [],
   "source": [
    "\"\"\"\n",
    "DON'T MODIFY ANYTHING IN THIS CELL\n",
    "\"\"\"\n",
    "from tensorflow.contrib import seq2seq\n",
    "\n",
    "train_graph = tf.Graph()\n",
    "with train_graph.as_default():\n",
    "    vocab_size = len(int_to_vocab)\n",
    "    input_text, targets, lr = get_inputs()\n",
    "    input_data_shape = tf.shape(input_text)\n",
    "    cell, initial_state = get_init_cell(input_data_shape[0], rnn_size)\n",
    "    logits, final_state = build_nn(cell, rnn_size, input_text, vocab_size)\n",
    "\n",
    "    # Probabilities for generating words\n",
    "    probs = tf.nn.softmax(logits, name='probs')\n",
    "\n",
    "    # Loss function\n",
    "    cost = seq2seq.sequence_loss(\n",
    "        logits,\n",
    "        targets,\n",
    "        tf.ones([input_data_shape[0], input_data_shape[1]]))\n",
    "\n",
    "    # Optimizer\n",
    "    optimizer = tf.train.AdamOptimizer(lr)\n",
    "\n",
    "    # Gradient Clipping\n",
    "    gradients = optimizer.compute_gradients(cost)\n",
    "    capped_gradients = [(tf.clip_by_value(grad, -1., 1.), var) for grad, var in gradients]\n",
    "    train_op = optimizer.apply_gradients(capped_gradients)"
   ]
  },
  {
   "cell_type": "markdown",
   "metadata": {
    "deletable": true,
    "editable": true
   },
   "source": [
    "## Train\n",
    "Train the neural network on the preprocessed data.  If you have a hard time getting a good loss, check the [forms](https://discussions.udacity.com/) to see if anyone is having the same problem."
   ]
  },
  {
   "cell_type": "code",
   "execution_count": null,
   "metadata": {
    "collapsed": false,
    "deletable": true,
    "editable": true
   },
   "outputs": [
    {
     "name": "stdout",
     "output_type": "stream",
     "text": [
      "Epoch   0 Batch    0/44   train_loss = 8.822\n",
      "Epoch   0 Batch    5/44   train_loss = 7.022\n",
      "Epoch   0 Batch   10/44   train_loss = 6.490\n",
      "Epoch   0 Batch   15/44   train_loss = 6.214\n",
      "Epoch   0 Batch   20/44   train_loss = 6.212\n",
      "Epoch   0 Batch   25/44   train_loss = 6.210\n",
      "Epoch   0 Batch   30/44   train_loss = 6.237\n",
      "Epoch   0 Batch   35/44   train_loss = 6.047\n",
      "Epoch   0 Batch   40/44   train_loss = 6.164\n",
      "Epoch   1 Batch    1/44   train_loss = 6.036\n",
      "Epoch   1 Batch    6/44   train_loss = 5.934\n",
      "Epoch   1 Batch   11/44   train_loss = 6.024\n",
      "Epoch   1 Batch   16/44   train_loss = 6.004\n",
      "Epoch   1 Batch   21/44   train_loss = 6.091\n",
      "Epoch   1 Batch   26/44   train_loss = 6.042\n",
      "Epoch   1 Batch   31/44   train_loss = 6.094\n",
      "Epoch   1 Batch   36/44   train_loss = 6.057\n",
      "Epoch   1 Batch   41/44   train_loss = 6.026\n",
      "Epoch   2 Batch    2/44   train_loss = 5.831\n",
      "Epoch   2 Batch    7/44   train_loss = 6.106\n",
      "Epoch   2 Batch   12/44   train_loss = 5.875\n",
      "Epoch   2 Batch   17/44   train_loss = 6.043\n",
      "Epoch   2 Batch   22/44   train_loss = 5.886\n",
      "Epoch   2 Batch   27/44   train_loss = 5.981\n",
      "Epoch   2 Batch   32/44   train_loss = 5.881\n",
      "Epoch   2 Batch   37/44   train_loss = 5.954\n",
      "Epoch   2 Batch   42/44   train_loss = 5.895\n",
      "Epoch   3 Batch    3/44   train_loss = 5.701\n",
      "Epoch   3 Batch    8/44   train_loss = 5.732\n",
      "Epoch   3 Batch   13/44   train_loss = 5.694\n",
      "Epoch   3 Batch   18/44   train_loss = 5.698\n",
      "Epoch   3 Batch   23/44   train_loss = 5.713\n",
      "Epoch   3 Batch   28/44   train_loss = 5.614\n",
      "Epoch   3 Batch   33/44   train_loss = 5.713\n",
      "Epoch   3 Batch   38/44   train_loss = 5.544\n",
      "Epoch   3 Batch   43/44   train_loss = 5.694\n",
      "Epoch   4 Batch    4/44   train_loss = 5.367\n",
      "Epoch   4 Batch    9/44   train_loss = 5.470\n",
      "Epoch   4 Batch   14/44   train_loss = 5.517\n",
      "Epoch   4 Batch   19/44   train_loss = 5.539\n",
      "Epoch   4 Batch   24/44   train_loss = 5.374\n",
      "Epoch   4 Batch   29/44   train_loss = 5.532\n",
      "Epoch   4 Batch   34/44   train_loss = 5.442\n",
      "Epoch   4 Batch   39/44   train_loss = 5.394\n",
      "Epoch   5 Batch    0/44   train_loss = 5.207\n",
      "Epoch   5 Batch    5/44   train_loss = 5.201\n",
      "Epoch   5 Batch   10/44   train_loss = 5.321\n",
      "Epoch   5 Batch   15/44   train_loss = 5.139\n",
      "Epoch   5 Batch   20/44   train_loss = 5.199\n",
      "Epoch   5 Batch   25/44   train_loss = 5.266\n",
      "Epoch   5 Batch   30/44   train_loss = 5.315\n",
      "Epoch   5 Batch   35/44   train_loss = 5.073\n",
      "Epoch   5 Batch   40/44   train_loss = 5.265\n",
      "Epoch   6 Batch    1/44   train_loss = 5.107\n",
      "Epoch   6 Batch    6/44   train_loss = 5.069\n",
      "Epoch   6 Batch   11/44   train_loss = 5.161\n",
      "Epoch   6 Batch   16/44   train_loss = 5.129\n",
      "Epoch   6 Batch   21/44   train_loss = 5.084\n",
      "Epoch   6 Batch   26/44   train_loss = 5.030\n",
      "Epoch   6 Batch   31/44   train_loss = 5.187\n",
      "Epoch   6 Batch   36/44   train_loss = 5.114\n",
      "Epoch   6 Batch   41/44   train_loss = 5.006\n",
      "Epoch   7 Batch    2/44   train_loss = 4.824\n",
      "Epoch   7 Batch    7/44   train_loss = 5.119\n",
      "Epoch   7 Batch   12/44   train_loss = 4.922\n",
      "Epoch   7 Batch   17/44   train_loss = 5.049\n",
      "Epoch   7 Batch   22/44   train_loss = 4.943\n",
      "Epoch   7 Batch   27/44   train_loss = 5.007\n",
      "Epoch   7 Batch   32/44   train_loss = 4.924\n",
      "Epoch   7 Batch   37/44   train_loss = 5.011\n",
      "Epoch   7 Batch   42/44   train_loss = 4.913\n",
      "Epoch   8 Batch    3/44   train_loss = 4.894\n",
      "Epoch   8 Batch    8/44   train_loss = 4.865\n",
      "Epoch   8 Batch   13/44   train_loss = 4.874\n",
      "Epoch   8 Batch   18/44   train_loss = 4.894\n",
      "Epoch   8 Batch   23/44   train_loss = 4.943\n",
      "Epoch   8 Batch   28/44   train_loss = 4.887\n",
      "Epoch   8 Batch   33/44   train_loss = 5.037\n",
      "Epoch   8 Batch   38/44   train_loss = 4.830\n",
      "Epoch   8 Batch   43/44   train_loss = 4.996\n",
      "Epoch   9 Batch    4/44   train_loss = 4.677\n",
      "Epoch   9 Batch    9/44   train_loss = 4.832\n",
      "Epoch   9 Batch   14/44   train_loss = 4.954\n",
      "Epoch   9 Batch   19/44   train_loss = 4.927\n",
      "Epoch   9 Batch   24/44   train_loss = 4.818\n",
      "Epoch   9 Batch   29/44   train_loss = 4.948\n",
      "Epoch   9 Batch   34/44   train_loss = 4.821\n",
      "Epoch   9 Batch   39/44   train_loss = 4.831\n",
      "Epoch  10 Batch    0/44   train_loss = 4.635\n",
      "Epoch  10 Batch    5/44   train_loss = 4.650\n",
      "Epoch  10 Batch   10/44   train_loss = 4.789\n",
      "Epoch  10 Batch   15/44   train_loss = 4.648\n",
      "Epoch  10 Batch   20/44   train_loss = 4.664\n",
      "Epoch  10 Batch   25/44   train_loss = 4.803\n",
      "Epoch  10 Batch   30/44   train_loss = 4.808\n",
      "Epoch  10 Batch   35/44   train_loss = 4.614\n",
      "Epoch  10 Batch   40/44   train_loss = 4.735\n",
      "Epoch  11 Batch    1/44   train_loss = 4.618\n",
      "Epoch  11 Batch    6/44   train_loss = 4.608\n",
      "Epoch  11 Batch   11/44   train_loss = 4.708\n",
      "Epoch  11 Batch   16/44   train_loss = 4.656\n",
      "Epoch  11 Batch   21/44   train_loss = 4.663\n",
      "Epoch  11 Batch   26/44   train_loss = 4.570\n",
      "Epoch  11 Batch   31/44   train_loss = 4.754\n",
      "Epoch  11 Batch   36/44   train_loss = 4.689\n",
      "Epoch  11 Batch   41/44   train_loss = 4.607\n",
      "Epoch  12 Batch    2/44   train_loss = 4.412\n",
      "Epoch  12 Batch    7/44   train_loss = 4.690\n",
      "Epoch  12 Batch   12/44   train_loss = 4.488\n",
      "Epoch  12 Batch   17/44   train_loss = 4.641\n",
      "Epoch  12 Batch   22/44   train_loss = 4.516\n",
      "Epoch  12 Batch   27/44   train_loss = 4.617\n",
      "Epoch  12 Batch   32/44   train_loss = 4.564\n",
      "Epoch  12 Batch   37/44   train_loss = 4.657\n",
      "Epoch  12 Batch   42/44   train_loss = 4.545\n",
      "Epoch  13 Batch    3/44   train_loss = 4.464\n",
      "Epoch  13 Batch    8/44   train_loss = 4.538\n",
      "Epoch  13 Batch   13/44   train_loss = 4.501\n",
      "Epoch  13 Batch   18/44   train_loss = 4.559\n",
      "Epoch  13 Batch   23/44   train_loss = 4.591\n",
      "Epoch  13 Batch   28/44   train_loss = 4.535\n",
      "Epoch  13 Batch   33/44   train_loss = 4.608\n",
      "Epoch  13 Batch   38/44   train_loss = 4.466\n",
      "Epoch  13 Batch   43/44   train_loss = 4.612\n",
      "Epoch  14 Batch    4/44   train_loss = 4.341\n",
      "Epoch  14 Batch    9/44   train_loss = 4.471\n",
      "Epoch  14 Batch   14/44   train_loss = 4.593\n",
      "Epoch  14 Batch   19/44   train_loss = 4.542\n",
      "Epoch  14 Batch   24/44   train_loss = 4.442\n",
      "Epoch  14 Batch   29/44   train_loss = 4.607\n",
      "Epoch  14 Batch   34/44   train_loss = 4.477\n",
      "Epoch  14 Batch   39/44   train_loss = 4.512\n",
      "Epoch  15 Batch    0/44   train_loss = 4.320\n",
      "Epoch  15 Batch    5/44   train_loss = 4.343\n",
      "Epoch  15 Batch   10/44   train_loss = 4.460\n",
      "Epoch  15 Batch   15/44   train_loss = 4.339\n",
      "Epoch  15 Batch   20/44   train_loss = 4.361\n",
      "Epoch  15 Batch   25/44   train_loss = 4.511\n",
      "Epoch  15 Batch   30/44   train_loss = 4.513\n",
      "Epoch  15 Batch   35/44   train_loss = 4.354\n",
      "Epoch  15 Batch   40/44   train_loss = 4.444\n",
      "Epoch  16 Batch    1/44   train_loss = 4.312\n",
      "Epoch  16 Batch    6/44   train_loss = 4.316\n",
      "Epoch  16 Batch   11/44   train_loss = 4.397\n",
      "Epoch  16 Batch   16/44   train_loss = 4.322\n",
      "Epoch  16 Batch   21/44   train_loss = 4.384\n",
      "Epoch  16 Batch   26/44   train_loss = 4.271\n",
      "Epoch  16 Batch   31/44   train_loss = 4.449\n",
      "Epoch  16 Batch   36/44   train_loss = 4.443\n",
      "Epoch  16 Batch   41/44   train_loss = 4.312\n",
      "Epoch  17 Batch    2/44   train_loss = 4.167\n",
      "Epoch  17 Batch    7/44   train_loss = 4.438\n",
      "Epoch  17 Batch   12/44   train_loss = 4.231\n",
      "Epoch  17 Batch   17/44   train_loss = 4.353\n",
      "Epoch  17 Batch   22/44   train_loss = 4.307\n",
      "Epoch  17 Batch   27/44   train_loss = 4.334\n",
      "Epoch  17 Batch   32/44   train_loss = 4.270\n",
      "Epoch  17 Batch   37/44   train_loss = 4.360\n",
      "Epoch  17 Batch   42/44   train_loss = 4.279\n",
      "Epoch  18 Batch    3/44   train_loss = 4.224\n",
      "Epoch  18 Batch    8/44   train_loss = 4.248\n",
      "Epoch  18 Batch   13/44   train_loss = 4.273\n",
      "Epoch  18 Batch   18/44   train_loss = 4.291\n",
      "Epoch  18 Batch   23/44   train_loss = 4.335\n",
      "Epoch  18 Batch   28/44   train_loss = 4.300\n",
      "Epoch  18 Batch   33/44   train_loss = 4.395\n",
      "Epoch  18 Batch   38/44   train_loss = 4.259\n",
      "Epoch  18 Batch   43/44   train_loss = 4.372\n",
      "Epoch  19 Batch    4/44   train_loss = 4.126\n",
      "Epoch  19 Batch    9/44   train_loss = 4.228\n",
      "Epoch  19 Batch   14/44   train_loss = 4.329\n",
      "Epoch  19 Batch   19/44   train_loss = 4.304\n",
      "Epoch  19 Batch   24/44   train_loss = 4.233\n",
      "Epoch  19 Batch   29/44   train_loss = 4.347\n",
      "Epoch  19 Batch   34/44   train_loss = 4.256\n",
      "Epoch  19 Batch   39/44   train_loss = 4.257\n",
      "Epoch  20 Batch    0/44   train_loss = 4.084\n",
      "Epoch  20 Batch    5/44   train_loss = 4.092\n",
      "Epoch  20 Batch   10/44   train_loss = 4.231\n",
      "Epoch  20 Batch   15/44   train_loss = 4.122\n",
      "Epoch  20 Batch   20/44   train_loss = 4.093\n",
      "Epoch  20 Batch   25/44   train_loss = 4.245\n",
      "Epoch  20 Batch   30/44   train_loss = 4.249\n",
      "Epoch  20 Batch   35/44   train_loss = 4.133\n",
      "Epoch  20 Batch   40/44   train_loss = 4.253\n",
      "Epoch  21 Batch    1/44   train_loss = 4.112\n",
      "Epoch  21 Batch    6/44   train_loss = 4.121\n",
      "Epoch  21 Batch   11/44   train_loss = 4.139\n",
      "Epoch  21 Batch   16/44   train_loss = 4.151\n",
      "Epoch  21 Batch   21/44   train_loss = 4.171\n",
      "Epoch  21 Batch   26/44   train_loss = 4.039\n",
      "Epoch  21 Batch   31/44   train_loss = 4.203\n",
      "Epoch  21 Batch   36/44   train_loss = 4.253\n",
      "Epoch  21 Batch   41/44   train_loss = 4.079\n",
      "Epoch  22 Batch    2/44   train_loss = 3.980\n",
      "Epoch  22 Batch    7/44   train_loss = 4.201\n",
      "Epoch  22 Batch   12/44   train_loss = 4.018\n",
      "Epoch  22 Batch   17/44   train_loss = 4.129\n",
      "Epoch  22 Batch   22/44   train_loss = 4.083\n",
      "Epoch  22 Batch   27/44   train_loss = 4.130\n",
      "Epoch  22 Batch   32/44   train_loss = 4.041\n",
      "Epoch  22 Batch   37/44   train_loss = 4.139\n",
      "Epoch  22 Batch   42/44   train_loss = 4.045\n",
      "Epoch  23 Batch    3/44   train_loss = 4.049\n",
      "Epoch  23 Batch    8/44   train_loss = 4.036\n",
      "Epoch  23 Batch   13/44   train_loss = 4.033\n",
      "Epoch  23 Batch   18/44   train_loss = 4.072\n",
      "Epoch  23 Batch   23/44   train_loss = 4.099\n",
      "Epoch  23 Batch   28/44   train_loss = 4.063\n",
      "Epoch  23 Batch   33/44   train_loss = 4.174\n",
      "Epoch  23 Batch   38/44   train_loss = 4.033\n",
      "Epoch  23 Batch   43/44   train_loss = 4.140\n",
      "Epoch  24 Batch    4/44   train_loss = 3.939\n",
      "Epoch  24 Batch    9/44   train_loss = 4.064\n",
      "Epoch  24 Batch   14/44   train_loss = 4.133\n",
      "Epoch  24 Batch   19/44   train_loss = 4.093\n",
      "Epoch  24 Batch   24/44   train_loss = 3.997\n",
      "Epoch  24 Batch   29/44   train_loss = 4.137\n",
      "Epoch  24 Batch   34/44   train_loss = 4.034\n",
      "Epoch  24 Batch   39/44   train_loss = 3.971\n",
      "Epoch  25 Batch    0/44   train_loss = 3.919\n",
      "Epoch  25 Batch    5/44   train_loss = 3.923\n",
      "Epoch  25 Batch   10/44   train_loss = 4.026\n",
      "Epoch  25 Batch   15/44   train_loss = 3.921\n",
      "Epoch  25 Batch   20/44   train_loss = 3.914\n",
      "Epoch  25 Batch   25/44   train_loss = 4.070\n",
      "Epoch  25 Batch   30/44   train_loss = 4.052\n",
      "Epoch  25 Batch   35/44   train_loss = 3.987\n",
      "Epoch  25 Batch   40/44   train_loss = 4.054\n",
      "Epoch  26 Batch    1/44   train_loss = 3.916\n",
      "Epoch  26 Batch    6/44   train_loss = 3.938\n",
      "Epoch  26 Batch   11/44   train_loss = 3.977\n",
      "Epoch  26 Batch   16/44   train_loss = 3.973\n",
      "Epoch  26 Batch   21/44   train_loss = 3.972\n",
      "Epoch  26 Batch   26/44   train_loss = 3.900\n",
      "Epoch  26 Batch   31/44   train_loss = 4.035\n",
      "Epoch  26 Batch   36/44   train_loss = 4.047\n",
      "Epoch  26 Batch   41/44   train_loss = 3.945\n",
      "Epoch  27 Batch    2/44   train_loss = 3.795\n",
      "Epoch  27 Batch    7/44   train_loss = 4.025\n",
      "Epoch  27 Batch   12/44   train_loss = 3.829\n",
      "Epoch  27 Batch   17/44   train_loss = 3.968\n",
      "Epoch  27 Batch   22/44   train_loss = 3.924\n",
      "Epoch  27 Batch   27/44   train_loss = 3.931\n",
      "Epoch  27 Batch   32/44   train_loss = 3.876\n",
      "Epoch  27 Batch   37/44   train_loss = 3.962\n",
      "Epoch  27 Batch   42/44   train_loss = 3.914\n",
      "Epoch  28 Batch    3/44   train_loss = 3.890\n",
      "Epoch  28 Batch    8/44   train_loss = 3.903\n",
      "Epoch  28 Batch   13/44   train_loss = 3.916\n",
      "Epoch  28 Batch   18/44   train_loss = 3.977\n",
      "Epoch  28 Batch   23/44   train_loss = 3.946\n",
      "Epoch  28 Batch   28/44   train_loss = 3.868\n",
      "Epoch  28 Batch   33/44   train_loss = 3.993\n",
      "Epoch  28 Batch   38/44   train_loss = 3.939\n",
      "Epoch  28 Batch   43/44   train_loss = 4.000\n",
      "Epoch  29 Batch    4/44   train_loss = 3.751\n",
      "Epoch  29 Batch    9/44   train_loss = 3.905\n",
      "Epoch  29 Batch   14/44   train_loss = 3.926\n",
      "Epoch  29 Batch   19/44   train_loss = 3.852\n",
      "Epoch  29 Batch   24/44   train_loss = 3.875\n",
      "Epoch  29 Batch   29/44   train_loss = 3.946\n",
      "Epoch  29 Batch   34/44   train_loss = 3.901\n",
      "Epoch  29 Batch   39/44   train_loss = 3.869\n",
      "Epoch  30 Batch    0/44   train_loss = 3.782\n",
      "Epoch  30 Batch    5/44   train_loss = 3.752\n",
      "Epoch  30 Batch   10/44   train_loss = 3.822\n",
      "Epoch  30 Batch   15/44   train_loss = 3.788\n",
      "Epoch  30 Batch   20/44   train_loss = 3.813\n",
      "Epoch  30 Batch   25/44   train_loss = 3.905\n",
      "Epoch  30 Batch   30/44   train_loss = 3.919\n",
      "Epoch  30 Batch   35/44   train_loss = 3.871\n",
      "Epoch  30 Batch   40/44   train_loss = 3.864\n",
      "Epoch  31 Batch    1/44   train_loss = 3.788\n",
      "Epoch  31 Batch    6/44   train_loss = 3.776\n",
      "Epoch  31 Batch   11/44   train_loss = 3.790\n",
      "Epoch  31 Batch   16/44   train_loss = 3.777\n",
      "Epoch  31 Batch   21/44   train_loss = 3.826\n",
      "Epoch  31 Batch   26/44   train_loss = 3.750\n",
      "Epoch  31 Batch   31/44   train_loss = 3.873\n",
      "Epoch  31 Batch   36/44   train_loss = 3.894\n",
      "Epoch  31 Batch   41/44   train_loss = 3.782\n",
      "Epoch  32 Batch    2/44   train_loss = 3.645\n",
      "Epoch  32 Batch    7/44   train_loss = 3.836\n",
      "Epoch  32 Batch   12/44   train_loss = 3.685\n",
      "Epoch  32 Batch   17/44   train_loss = 3.862\n",
      "Epoch  32 Batch   22/44   train_loss = 3.752\n",
      "Epoch  32 Batch   27/44   train_loss = 3.793\n",
      "Epoch  32 Batch   32/44   train_loss = 3.748\n",
      "Epoch  32 Batch   37/44   train_loss = 3.753\n",
      "Epoch  32 Batch   42/44   train_loss = 3.756\n",
      "Epoch  33 Batch    3/44   train_loss = 3.721\n",
      "Epoch  33 Batch    8/44   train_loss = 3.711\n",
      "Epoch  33 Batch   13/44   train_loss = 3.755\n",
      "Epoch  33 Batch   18/44   train_loss = 3.749\n",
      "Epoch  33 Batch   23/44   train_loss = 3.814\n",
      "Epoch  33 Batch   28/44   train_loss = 3.735\n",
      "Epoch  33 Batch   33/44   train_loss = 3.838\n",
      "Epoch  33 Batch   38/44   train_loss = 3.815\n",
      "Epoch  33 Batch   43/44   train_loss = 3.778\n",
      "Epoch  34 Batch    4/44   train_loss = 3.614\n",
      "Epoch  34 Batch    9/44   train_loss = 3.715\n",
      "Epoch  34 Batch   14/44   train_loss = 3.801\n",
      "Epoch  34 Batch   19/44   train_loss = 3.754\n",
      "Epoch  34 Batch   24/44   train_loss = 3.718\n",
      "Epoch  34 Batch   29/44   train_loss = 3.748\n",
      "Epoch  34 Batch   34/44   train_loss = 3.697\n",
      "Epoch  34 Batch   39/44   train_loss = 3.704\n",
      "Epoch  35 Batch    0/44   train_loss = 3.648\n",
      "Epoch  35 Batch    5/44   train_loss = 3.573\n",
      "Epoch  35 Batch   10/44   train_loss = 3.668\n",
      "Epoch  35 Batch   15/44   train_loss = 3.633\n",
      "Epoch  35 Batch   20/44   train_loss = 3.694\n",
      "Epoch  35 Batch   25/44   train_loss = 3.709\n",
      "Epoch  35 Batch   30/44   train_loss = 3.728\n",
      "Epoch  35 Batch   35/44   train_loss = 3.681\n",
      "Epoch  35 Batch   40/44   train_loss = 3.754\n",
      "Epoch  36 Batch    1/44   train_loss = 3.603\n",
      "Epoch  36 Batch    6/44   train_loss = 3.645\n",
      "Epoch  36 Batch   11/44   train_loss = 3.674\n",
      "Epoch  36 Batch   16/44   train_loss = 3.671\n",
      "Epoch  36 Batch   21/44   train_loss = 3.672\n",
      "Epoch  36 Batch   26/44   train_loss = 3.571\n",
      "Epoch  36 Batch   31/44   train_loss = 3.707\n",
      "Epoch  36 Batch   36/44   train_loss = 3.727\n",
      "Epoch  36 Batch   41/44   train_loss = 3.628\n",
      "Epoch  37 Batch    2/44   train_loss = 3.523\n",
      "Epoch  37 Batch    7/44   train_loss = 3.703\n",
      "Epoch  37 Batch   12/44   train_loss = 3.557\n",
      "Epoch  37 Batch   17/44   train_loss = 3.649\n",
      "Epoch  37 Batch   22/44   train_loss = 3.630\n",
      "Epoch  37 Batch   27/44   train_loss = 3.628\n",
      "Epoch  37 Batch   32/44   train_loss = 3.627\n",
      "Epoch  37 Batch   37/44   train_loss = 3.713\n",
      "Epoch  37 Batch   42/44   train_loss = 3.643\n"
     ]
    }
   ],
   "source": [
    "\"\"\"\n",
    "DON'T MODIFY ANYTHING IN THIS CELL\n",
    "\"\"\"\n",
    "batches = get_batches(int_text, batch_size, seq_length)\n",
    "\n",
    "with tf.Session(graph=train_graph) as sess:\n",
    "    sess.run(tf.global_variables_initializer())\n",
    "\n",
    "    for epoch_i in range(num_epochs):\n",
    "        state = sess.run(initial_state, {input_text: batches[0][0]})\n",
    "\n",
    "        for batch_i, (x, y) in enumerate(batches):\n",
    "            feed = {\n",
    "                input_text: x,\n",
    "                targets: y,\n",
    "                initial_state: state,\n",
    "                lr: learning_rate}\n",
    "            train_loss, state, _ = sess.run([cost, final_state, train_op], feed)\n",
    "\n",
    "            # Show every <show_every_n_batches> batches\n",
    "            if (epoch_i * len(batches) + batch_i) % show_every_n_batches == 0:\n",
    "                print('Epoch {:>3} Batch {:>4}/{}   train_loss = {:.3f}'.format(\n",
    "                    epoch_i,\n",
    "                    batch_i,\n",
    "                    len(batches),\n",
    "                    train_loss))\n",
    "\n",
    "    # Save Model\n",
    "    saver = tf.train.Saver()\n",
    "    saver.save(sess, save_dir)\n",
    "    print('Model Trained and Saved')"
   ]
  },
  {
   "cell_type": "markdown",
   "metadata": {
    "deletable": true,
    "editable": true
   },
   "source": [
    "## Save Parameters\n",
    "Save `seq_length` and `save_dir` for generating a new TV script."
   ]
  },
  {
   "cell_type": "code",
   "execution_count": 73,
   "metadata": {
    "collapsed": false,
    "deletable": true,
    "editable": true
   },
   "outputs": [],
   "source": [
    "\"\"\"\n",
    "DON'T MODIFY ANYTHING IN THIS CELL\n",
    "\"\"\"\n",
    "# Save parameters for checkpoint\n",
    "helper.save_params((seq_length, save_dir))"
   ]
  },
  {
   "cell_type": "markdown",
   "metadata": {
    "deletable": true,
    "editable": true
   },
   "source": [
    "# Checkpoint"
   ]
  },
  {
   "cell_type": "code",
   "execution_count": 74,
   "metadata": {
    "collapsed": false,
    "deletable": true,
    "editable": true
   },
   "outputs": [],
   "source": [
    "\"\"\"\n",
    "DON'T MODIFY ANYTHING IN THIS CELL\n",
    "\"\"\"\n",
    "import tensorflow as tf\n",
    "import numpy as np\n",
    "import helper\n",
    "import problem_unittests as tests\n",
    "\n",
    "_, vocab_to_int, int_to_vocab, token_dict = helper.load_preprocess()\n",
    "seq_length, load_dir = helper.load_params()"
   ]
  },
  {
   "cell_type": "markdown",
   "metadata": {
    "deletable": true,
    "editable": true
   },
   "source": [
    "## Implement Generate Functions\n",
    "### Get Tensors\n",
    "Get tensors from `loaded_graph` using the function [`get_tensor_by_name()`](https://www.tensorflow.org/api_docs/python/tf/Graph#get_tensor_by_name).  Get the tensors using the following names:\n",
    "- \"input:0\"\n",
    "- \"initial_state:0\"\n",
    "- \"final_state:0\"\n",
    "- \"probs:0\"\n",
    "\n",
    "Return the tensors in the following tuple `(InputTensor, InitialStateTensor, FinalStateTensor, ProbsTensor)` "
   ]
  },
  {
   "cell_type": "code",
   "execution_count": 75,
   "metadata": {
    "collapsed": false,
    "deletable": true,
    "editable": true
   },
   "outputs": [
    {
     "name": "stdout",
     "output_type": "stream",
     "text": [
      "Tests Passed\n"
     ]
    }
   ],
   "source": [
    "def get_tensors(loaded_graph):\n",
    "    \"\"\"\n",
    "    Get input, initial state, final state, and probabilities tensor from <loaded_graph>\n",
    "    :param loaded_graph: TensorFlow graph loaded from file\n",
    "    :return: Tuple (InputTensor, InitialStateTensor, FinalStateTensor, ProbsTensor)\n",
    "    \"\"\"\n",
    "    # TODO: Implement Function\n",
    "    iput = loaded_graph.get_tensor_by_name(\"input:0\")\n",
    "    istate = loaded_graph.get_tensor_by_name(\"initial_state:0\")\n",
    "    fstate= loaded_graph.get_tensor_by_name(\"final_state:0\")\n",
    "    prob = loaded_graph.get_tensor_by_name(\"probs:0\")\n",
    "    return iput,istate ,fstate, prob\n",
    "\n",
    "\n",
    "\"\"\"\n",
    "DON'T MODIFY ANYTHING IN THIS CELL THAT IS BELOW THIS LINE\n",
    "\"\"\"\n",
    "tests.test_get_tensors(get_tensors)"
   ]
  },
  {
   "cell_type": "markdown",
   "metadata": {
    "deletable": true,
    "editable": true
   },
   "source": [
    "### Choose Word\n",
    "Implement the `pick_word()` function to select the next word using `probabilities`."
   ]
  },
  {
   "cell_type": "code",
   "execution_count": 76,
   "metadata": {
    "collapsed": false,
    "deletable": true,
    "editable": true
   },
   "outputs": [
    {
     "name": "stdout",
     "output_type": "stream",
     "text": [
      "Tests Passed\n"
     ]
    }
   ],
   "source": [
    "def pick_word(probabilities, int_to_vocab):\n",
    "    \"\"\"\n",
    "    Pick the next word in the generated text\n",
    "    :param probabilities: Probabilites of the next word\n",
    "    :param int_to_vocab: Dictionary of word ids as the keys and words as the values\n",
    "    :return: String of the predicted word\n",
    "    \"\"\"\n",
    "    # TODO: Implement Function\n",
    "    picked = np.random.choice(list(range(0,len(int_to_vocab))),1,p=probabilities)[0]\n",
    "    return int_to_vocab[picked]\n",
    "\n",
    "\n",
    "\"\"\"\n",
    "DON'T MODIFY ANYTHING IN THIS CELL THAT IS BELOW THIS LINE\n",
    "\"\"\"\n",
    "tests.test_pick_word(pick_word)"
   ]
  },
  {
   "cell_type": "markdown",
   "metadata": {
    "deletable": true,
    "editable": true
   },
   "source": [
    "## Generate TV Script\n",
    "This will generate the TV script for you.  Set `gen_length` to the length of TV script you want to generate."
   ]
  },
  {
   "cell_type": "code",
   "execution_count": 77,
   "metadata": {
    "collapsed": false,
    "deletable": true,
    "editable": true
   },
   "outputs": [
    {
     "name": "stdout",
     "output_type": "stream",
     "text": [
      "moe_szyslak:(cool accelerating to a positive career) okay.\n",
      "moe_szyslak: hey, that a startin' written to i influence. we which even the tips of the pick was a dude!(determined noise maggie cushion bar expired noise, ball!\n",
      "moe_szyslak: yeah, it's the matter is the have microbrew?\n",
      "chief_wiggum: yeah, but i'm should troll st of the mater / funny of north informant?\n",
      "moe_szyslak: congratulations. uh! but you been apu this normal around in mouth on more without tab is\" people good kick ripcord to anti-intellectualism a frankenstein? you'd that get going to most your ale.\n",
      "lenny_leonard: what mop in everyone for moe's forgotten of diamond simpson?\n",
      "homer_simpson: homer, you been sharps for flowers to get me to everyone buyin' a that'll day of make delivery?\n",
      "kemi:(murmurs smile) suspect and the there's laugh like one night!\n",
      "lenny_leonard: wow-- s'okay, moe, this alternative the job?\n",
      "homer_simpson:(wiping to mirror) his stu read telling are dumpster?\n",
      "moe_szyslak: oh,(you like struggling a\n"
     ]
    }
   ],
   "source": [
    "gen_length = 200\n",
    "# homer_simpson, moe_szyslak, or Barney_Gumble\n",
    "prime_word = 'moe_szyslak'\n",
    "\n",
    "\"\"\"\n",
    "DON'T MODIFY ANYTHING IN THIS CELL THAT IS BELOW THIS LINE\n",
    "\"\"\"\n",
    "loaded_graph = tf.Graph()\n",
    "with tf.Session(graph=loaded_graph) as sess:\n",
    "    # Load saved model\n",
    "    loader = tf.train.import_meta_graph(load_dir + '.meta')\n",
    "    loader.restore(sess, load_dir)\n",
    "\n",
    "    # Get Tensors from loaded model\n",
    "    input_text, initial_state, final_state, probs = get_tensors(loaded_graph)\n",
    "\n",
    "    # Sentences generation setup\n",
    "    gen_sentences = [prime_word + ':']\n",
    "    prev_state = sess.run(initial_state, {input_text: np.array([[1]])})\n",
    "\n",
    "    # Generate sentences\n",
    "    for n in range(gen_length):\n",
    "        # Dynamic Input\n",
    "        dyn_input = [[vocab_to_int[word] for word in gen_sentences[-seq_length:]]]\n",
    "        dyn_seq_length = len(dyn_input[0])\n",
    "\n",
    "        # Get Prediction\n",
    "        probabilities, prev_state = sess.run(\n",
    "            [probs, final_state],\n",
    "            {input_text: dyn_input, initial_state: prev_state})\n",
    "        \n",
    "        pred_word = pick_word(probabilities[dyn_seq_length-1], int_to_vocab)\n",
    "\n",
    "        gen_sentences.append(pred_word)\n",
    "    \n",
    "    # Remove tokens\n",
    "    tv_script = ' '.join(gen_sentences)\n",
    "    for key, token in token_dict.items():\n",
    "        ending = ' ' if key in ['\\n', '(', '\"'] else ''\n",
    "        tv_script = tv_script.replace(' ' + token.lower(), key)\n",
    "    tv_script = tv_script.replace('\\n ', '\\n')\n",
    "    tv_script = tv_script.replace('( ', '(')\n",
    "        \n",
    "    print(tv_script)"
   ]
  },
  {
   "cell_type": "markdown",
   "metadata": {
    "deletable": true,
    "editable": true
   },
   "source": [
    "# The TV Script is Nonsensical\n",
    "It's ok if the TV script doesn't make any sense.  We trained on less than a megabyte of text.  In order to get good results, you'll have to use a smaller vocabulary or get more data.  Luckly there's more data!  As we mentioned in the begging of this project, this is a subset of [another dataset](https://www.kaggle.com/wcukierski/the-simpsons-by-the-data).  We didn't have you train on all the data, because that would take too long.  However, you are free to train your neural network on all the data.  After you complete the project, of course.\n",
    "# Submitting This Project\n",
    "When submitting this project, make sure to run all the cells before saving the notebook. Save the notebook file as \"dlnd_tv_script_generation.ipynb\" and save it as a HTML file under \"File\" -> \"Download as\". Include the \"helper.py\" and \"problem_unittests.py\" files in your submission."
   ]
  },
  {
   "cell_type": "code",
   "execution_count": null,
   "metadata": {
    "collapsed": true
   },
   "outputs": [],
   "source": []
  }
 ],
 "metadata": {
  "kernelspec": {
   "display_name": "Python 3",
   "language": "python",
   "name": "python3"
  },
  "language_info": {
   "codemirror_mode": {
    "name": "ipython",
    "version": 3
   },
   "file_extension": ".py",
   "mimetype": "text/x-python",
   "name": "python",
   "nbconvert_exporter": "python",
   "pygments_lexer": "ipython3",
   "version": "3.5.3"
  }
 },
 "nbformat": 4,
 "nbformat_minor": 0
}
